{
 "cells": [
  {
   "cell_type": "code",
   "execution_count": 9,
   "id": "90c0cf90-3f70-40ca-b9db-9edf5d62093f",
   "metadata": {},
   "outputs": [],
   "source": [
    "from utils import MultiheadAttention\n",
    "import torch"
   ]
  },
  {
   "cell_type": "code",
   "execution_count": 11,
   "id": "f0af92ca-9ac7-4c06-9091-def564e97637",
   "metadata": {},
   "outputs": [],
   "source": [
    "sequence_length = 4\n",
    "batch_size = 1\n",
    "input_dim = 512\n",
    "d_model = 512\n",
    "x = torch.randn((batch_size, sequence_length, input_dim))"
   ]
  },
  {
   "cell_type": "code",
   "execution_count": 12,
   "id": "6c9f7fd7-e2ef-441f-807b-36e1ce082ade",
   "metadata": {},
   "outputs": [],
   "source": [
    "multiheadAttention = MultiheadAttention(input_dim, d_model, num_heads=8)"
   ]
  },
  {
   "cell_type": "code",
   "execution_count": 16,
   "id": "66a3f831-5882-4b2b-999d-d3d9b7d67b77",
   "metadata": {},
   "outputs": [
    {
     "name": "stdout",
     "output_type": "stream",
     "text": [
      "x.size(): torch.Size([1, 4, 512])\n",
      "qkv.size(): torch.Size([1, 4, 1536])\n",
      "q.size(): torch.Size([1, 8, 4, 64]), k.size(): torch.Size([1, 8, 4, 64]), v.size(): torch.Size([1, 8, 4, 64])\n",
      "values.size(): torch.Size([1, 8, 4, 64]), attention.size(): torch.Size([1, 8, 4, 4])\n"
     ]
    }
   ],
   "source": [
    "out = multiheadAttention.forward(x, True)"
   ]
  },
  {
   "cell_type": "code",
   "execution_count": 17,
   "id": "3a156b1d-297b-4d01-a4b5-668db75d571f",
   "metadata": {},
   "outputs": [
    {
     "data": {
      "text/plain": [
       "tensor([[[ 0.0453, -0.3026,  0.1452,  ...,  0.3501,  0.2666, -0.3062],\n",
       "         [ 0.2147,  0.1109,  0.0208,  ...,  0.2495,  0.1265,  0.1551],\n",
       "         [ 0.1463,  0.1632,  0.0049,  ...,  0.2129,  0.1098,  0.0989],\n",
       "         [-0.1060,  0.0033,  0.0157,  ...,  0.0505, -0.2788,  0.2108]]],\n",
       "       grad_fn=<ViewBackward0>)"
      ]
     },
     "execution_count": 17,
     "metadata": {},
     "output_type": "execute_result"
    }
   ],
   "source": [
    "out"
   ]
  }
 ],
 "metadata": {
  "kernelspec": {
   "display_name": "Python 3 (ipykernel)",
   "language": "python",
   "name": "python3"
  },
  "language_info": {
   "codemirror_mode": {
    "name": "ipython",
    "version": 3
   },
   "file_extension": ".py",
   "mimetype": "text/x-python",
   "name": "python",
   "nbconvert_exporter": "python",
   "pygments_lexer": "ipython3",
   "version": "3.10.11"
  }
 },
 "nbformat": 4,
 "nbformat_minor": 5
}
