{
 "cells": [
  {
   "cell_type": "code",
   "execution_count": 23,
   "id": "9e8721f2",
   "metadata": {},
   "outputs": [],
   "source": [
    "import sys\n",
    "sys.path.insert(0, 'D:\\\\My Work\\\\Final Year Project\\\\Transformer\\\\')"
   ]
  },
  {
   "cell_type": "code",
   "execution_count": 37,
   "id": "90c0cf90-3f70-40ca-b9db-9edf5d62093f",
   "metadata": {},
   "outputs": [],
   "source": [
    "from utils.MultiheadAttention import MultiheadAttention\n",
    "from utils.LayerNormalization import LayerNormalization\n",
    "from utils.PositionalEncoding import PositionalEncoding\n",
    "import torch"
   ]
  },
  {
   "cell_type": "code",
   "execution_count": 51,
   "id": "6e307196",
   "metadata": {},
   "outputs": [
    {
     "data": {
      "text/plain": [
       "<torch._C.Generator at 0x1d9fe5fc270>"
      ]
     },
     "execution_count": 51,
     "metadata": {},
     "output_type": "execute_result"
    }
   ],
   "source": [
    "torch.use_deterministic_algorithms(True)\n",
    "torch.manual_seed(42)"
   ]
  },
  {
   "cell_type": "markdown",
   "id": "92c1fe10",
   "metadata": {},
   "source": [
    "### Multihead Attention Test"
   ]
  },
  {
   "cell_type": "code",
   "execution_count": 52,
   "id": "f0af92ca-9ac7-4c06-9091-def564e97637",
   "metadata": {},
   "outputs": [],
   "source": [
    "sequence_length = 4\n",
    "batch_size = 1\n",
    "input_dim = 512\n",
    "d_model = 512\n",
    "x = torch.randn((batch_size, sequence_length, input_dim))"
   ]
  },
  {
   "cell_type": "code",
   "execution_count": 56,
   "id": "6c9f7fd7-e2ef-441f-807b-36e1ce082ade",
   "metadata": {},
   "outputs": [],
   "source": [
    "multiheadAttention = MultiheadAttention(input_dim, d_model, num_heads=8)"
   ]
  },
  {
   "cell_type": "code",
   "execution_count": 57,
   "id": "66a3f831-5882-4b2b-999d-d3d9b7d67b77",
   "metadata": {},
   "outputs": [
    {
     "name": "stdout",
     "output_type": "stream",
     "text": [
      "x.size(): torch.Size([1, 4, 512])\n",
      "qkv.size(): torch.Size([1, 4, 1536])\n",
      "q.size(): torch.Size([1, 8, 4, 64]), k.size(): torch.Size([1, 8, 4, 64]), v.size(): torch.Size([1, 8, 4, 64])\n",
      "values.size(): torch.Size([1, 8, 4, 64]), attention.size(): torch.Size([1, 8, 4, 4])\n"
     ]
    }
   ],
   "source": [
    "out = multiheadAttention.forward(x, True)"
   ]
  },
  {
   "cell_type": "code",
   "execution_count": 59,
   "id": "3a156b1d-297b-4d01-a4b5-668db75d571f",
   "metadata": {},
   "outputs": [
    {
     "data": {
      "text/plain": [
       "tensor([[[ 0.0732, -0.0193, -0.0584,  ..., -0.0308, -0.1902, -0.1485],\n",
       "         [ 0.1769, -0.0508, -0.1893,  ...,  0.1780, -0.2580,  0.0156],\n",
       "         [-0.2745,  0.2614, -0.1877,  ..., -0.0074,  0.2633, -0.0160],\n",
       "         [ 0.1175, -0.1531,  0.0868,  ...,  0.0942,  0.1276,  0.2643]]],\n",
       "       grad_fn=<ViewBackward0>)"
      ]
     },
     "execution_count": 59,
     "metadata": {},
     "output_type": "execute_result"
    }
   ],
   "source": [
    "out"
   ]
  },
  {
   "cell_type": "markdown",
   "id": "28353be1",
   "metadata": {},
   "source": [
    "### Layer Normalization Test"
   ]
  },
  {
   "cell_type": "code",
   "execution_count": 32,
   "id": "6e5901bc",
   "metadata": {},
   "outputs": [],
   "source": [
    "batch_size = 3\n",
    "sentence_length = 5\n",
    "embedding_dim = 8\n",
    "inputs = torch.randn(sentence_length, batch_size, embedding_dim)"
   ]
  },
  {
   "cell_type": "code",
   "execution_count": 33,
   "id": "2bd24cd9",
   "metadata": {},
   "outputs": [
    {
     "name": "stdout",
     "output_type": "stream",
     "text": [
      "Mean \n",
      " (torch.Size([5, 1, 1])): \n",
      " tensor([[[ 0.1454]],\n",
      "\n",
      "        [[-0.1117]],\n",
      "\n",
      "        [[ 0.0391]],\n",
      "\n",
      "        [[-0.0561]],\n",
      "\n",
      "        [[ 0.1869]]])\n",
      "Standard Deviation \n",
      " (torch.Size([5, 1, 1])): \n",
      " tensor([[[1.1102]],\n",
      "\n",
      "        [[1.0167]],\n",
      "\n",
      "        [[0.7659]],\n",
      "\n",
      "        [[0.9152]],\n",
      "\n",
      "        [[0.9104]]])\n",
      "y \n",
      " (torch.Size([5, 3, 8])) = \n",
      " tensor([[[-1.3094,  0.6403,  0.6544,  0.2786,  0.2253, -0.3061,  1.2922,\n",
      "           0.0592],\n",
      "         [ 0.9788,  0.7770, -0.2407, -0.8913, -1.1516, -1.4688,  0.9593,\n",
      "          -0.6275],\n",
      "         [ 1.4452,  0.1703, -1.7393, -1.3726, -1.1808,  0.2415,  0.7497,\n",
      "           1.8163]],\n",
      "\n",
      "        [[ 0.3598,  1.2476,  0.3248, -0.5003,  0.3801, -0.6293, -0.3825,\n",
      "          -0.0665],\n",
      "         [-2.3587,  0.4149, -0.2438, -1.7483,  1.0192,  0.3914, -0.7182,\n",
      "           0.2782],\n",
      "         [-1.2427,  0.0298,  1.1877,  0.5554,  2.4782, -1.0471, -0.0780,\n",
      "           0.3484]],\n",
      "\n",
      "        [[-1.0112,  0.0318,  0.3384, -0.6993,  0.2628, -2.1790, -0.5686,\n",
      "          -0.0576],\n",
      "         [ 2.1997, -0.8884,  0.5221,  0.2531,  0.8266,  0.0966, -0.0336,\n",
      "           1.8480],\n",
      "         [-0.4816,  1.3257, -1.0303, -0.4742, -1.6855, -0.0240,  0.8093,\n",
      "           0.6192]],\n",
      "\n",
      "        [[-0.4199, -0.0336, -0.5720,  1.7175, -0.6847,  0.8181, -0.9990,\n",
      "           0.0962],\n",
      "         [-1.4731, -0.2536, -0.7651, -2.0695,  0.4371,  0.5696, -0.0917,\n",
      "           1.1014],\n",
      "         [ 0.6675,  1.0165, -1.8647, -0.5268,  1.4930, -0.1496,  0.7672,\n",
      "           1.2193]],\n",
      "\n",
      "        [[ 0.3219,  0.3607, -0.5989,  1.9419, -1.2916, -0.0559,  0.4011,\n",
      "           0.7992],\n",
      "         [ 1.1850,  0.4807,  0.8951, -0.0166, -2.8625, -0.9115, -1.3656,\n",
      "          -0.5434],\n",
      "         [ 0.2796,  1.6405, -0.2988,  0.0943,  0.4405, -0.6756, -0.0892,\n",
      "          -0.1309]]])\n",
      "out \n",
      " (torch.Size([5, 3, 8])) = \n",
      " tensor([[[-1.3094,  0.6403,  0.6544,  0.2786,  0.2253, -0.3061,  1.2922,\n",
      "           0.0592],\n",
      "         [ 0.9788,  0.7770, -0.2407, -0.8913, -1.1516, -1.4688,  0.9593,\n",
      "          -0.6275],\n",
      "         [ 1.4452,  0.1703, -1.7393, -1.3726, -1.1808,  0.2415,  0.7497,\n",
      "           1.8163]],\n",
      "\n",
      "        [[ 0.3598,  1.2476,  0.3248, -0.5003,  0.3801, -0.6293, -0.3825,\n",
      "          -0.0665],\n",
      "         [-2.3587,  0.4149, -0.2438, -1.7483,  1.0192,  0.3914, -0.7182,\n",
      "           0.2782],\n",
      "         [-1.2427,  0.0298,  1.1877,  0.5554,  2.4782, -1.0471, -0.0780,\n",
      "           0.3484]],\n",
      "\n",
      "        [[-1.0112,  0.0318,  0.3384, -0.6993,  0.2628, -2.1790, -0.5686,\n",
      "          -0.0576],\n",
      "         [ 2.1997, -0.8884,  0.5221,  0.2531,  0.8266,  0.0966, -0.0336,\n",
      "           1.8480],\n",
      "         [-0.4816,  1.3257, -1.0303, -0.4742, -1.6855, -0.0240,  0.8093,\n",
      "           0.6192]],\n",
      "\n",
      "        [[-0.4199, -0.0336, -0.5720,  1.7175, -0.6847,  0.8181, -0.9990,\n",
      "           0.0962],\n",
      "         [-1.4731, -0.2536, -0.7651, -2.0695,  0.4371,  0.5696, -0.0917,\n",
      "           1.1014],\n",
      "         [ 0.6675,  1.0165, -1.8647, -0.5268,  1.4930, -0.1496,  0.7672,\n",
      "           1.2193]],\n",
      "\n",
      "        [[ 0.3219,  0.3607, -0.5989,  1.9419, -1.2916, -0.0559,  0.4011,\n",
      "           0.7992],\n",
      "         [ 1.1850,  0.4807,  0.8951, -0.0166, -2.8625, -0.9115, -1.3656,\n",
      "          -0.5434],\n",
      "         [ 0.2796,  1.6405, -0.2988,  0.0943,  0.4405, -0.6756, -0.0892,\n",
      "          -0.1309]]], grad_fn=<AddBackward0>)\n"
     ]
    }
   ],
   "source": [
    "layer_norm = LayerNormalization(inputs.size()[-2:])\n",
    "out = layer_norm.forward(inputs)"
   ]
  },
  {
   "cell_type": "code",
   "execution_count": 34,
   "id": "93d91412",
   "metadata": {},
   "outputs": [
    {
     "data": {
      "text/plain": [
       "tensor([[[-1.3094,  0.6403,  0.6544,  0.2786,  0.2253, -0.3061,  1.2922,\n",
       "           0.0592],\n",
       "         [ 0.9788,  0.7770, -0.2407, -0.8913, -1.1516, -1.4688,  0.9593,\n",
       "          -0.6275],\n",
       "         [ 1.4452,  0.1703, -1.7393, -1.3726, -1.1808,  0.2415,  0.7497,\n",
       "           1.8163]],\n",
       "\n",
       "        [[ 0.3598,  1.2476,  0.3248, -0.5003,  0.3801, -0.6293, -0.3825,\n",
       "          -0.0665],\n",
       "         [-2.3587,  0.4149, -0.2438, -1.7483,  1.0192,  0.3914, -0.7182,\n",
       "           0.2782],\n",
       "         [-1.2427,  0.0298,  1.1877,  0.5554,  2.4782, -1.0471, -0.0780,\n",
       "           0.3484]],\n",
       "\n",
       "        [[-1.0112,  0.0318,  0.3384, -0.6993,  0.2628, -2.1790, -0.5686,\n",
       "          -0.0576],\n",
       "         [ 2.1997, -0.8884,  0.5221,  0.2531,  0.8266,  0.0966, -0.0336,\n",
       "           1.8480],\n",
       "         [-0.4816,  1.3257, -1.0303, -0.4742, -1.6855, -0.0240,  0.8093,\n",
       "           0.6192]],\n",
       "\n",
       "        [[-0.4199, -0.0336, -0.5720,  1.7175, -0.6847,  0.8181, -0.9990,\n",
       "           0.0962],\n",
       "         [-1.4731, -0.2536, -0.7651, -2.0695,  0.4371,  0.5696, -0.0917,\n",
       "           1.1014],\n",
       "         [ 0.6675,  1.0165, -1.8647, -0.5268,  1.4930, -0.1496,  0.7672,\n",
       "           1.2193]],\n",
       "\n",
       "        [[ 0.3219,  0.3607, -0.5989,  1.9419, -1.2916, -0.0559,  0.4011,\n",
       "           0.7992],\n",
       "         [ 1.1850,  0.4807,  0.8951, -0.0166, -2.8625, -0.9115, -1.3656,\n",
       "          -0.5434],\n",
       "         [ 0.2796,  1.6405, -0.2988,  0.0943,  0.4405, -0.6756, -0.0892,\n",
       "          -0.1309]]], grad_fn=<AddBackward0>)"
      ]
     },
     "execution_count": 34,
     "metadata": {},
     "output_type": "execute_result"
    }
   ],
   "source": [
    "out"
   ]
  },
  {
   "cell_type": "markdown",
   "id": "00404a6e",
   "metadata": {},
   "source": [
    "### Positional Encoding Test"
   ]
  },
  {
   "cell_type": "code",
   "execution_count": 38,
   "id": "bd233444",
   "metadata": {},
   "outputs": [
    {
     "data": {
      "text/plain": [
       "tensor([[ 0.0000,  1.0000,  0.0000,  1.0000,  0.0000,  1.0000],\n",
       "        [ 0.8415,  0.5403,  0.0464,  0.9989,  0.0022,  1.0000],\n",
       "        [ 0.9093, -0.4161,  0.0927,  0.9957,  0.0043,  1.0000],\n",
       "        [ 0.1411, -0.9900,  0.1388,  0.9903,  0.0065,  1.0000],\n",
       "        [-0.7568, -0.6536,  0.1846,  0.9828,  0.0086,  1.0000],\n",
       "        [-0.9589,  0.2837,  0.2300,  0.9732,  0.0108,  0.9999],\n",
       "        [-0.2794,  0.9602,  0.2749,  0.9615,  0.0129,  0.9999],\n",
       "        [ 0.6570,  0.7539,  0.3192,  0.9477,  0.0151,  0.9999],\n",
       "        [ 0.9894, -0.1455,  0.3629,  0.9318,  0.0172,  0.9999],\n",
       "        [ 0.4121, -0.9111,  0.4057,  0.9140,  0.0194,  0.9998]])"
      ]
     },
     "execution_count": 38,
     "metadata": {},
     "output_type": "execute_result"
    }
   ],
   "source": [
    "pe = PositionalEncoding(d_model=6, max_sequence_length=10)\n",
    "pe.forward()"
   ]
  }
 ],
 "metadata": {
  "kernelspec": {
   "display_name": "Python 3 (ipykernel)",
   "language": "python",
   "name": "python3"
  },
  "language_info": {
   "codemirror_mode": {
    "name": "ipython",
    "version": 3
   },
   "file_extension": ".py",
   "mimetype": "text/x-python",
   "name": "python",
   "nbconvert_exporter": "python",
   "pygments_lexer": "ipython3",
   "version": "3.10.11"
  }
 },
 "nbformat": 4,
 "nbformat_minor": 5
}
