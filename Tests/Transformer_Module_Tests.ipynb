{
 "cells": [
  {
   "cell_type": "code",
   "execution_count": 32,
   "id": "90c0cf90-3f70-40ca-b9db-9edf5d62093f",
   "metadata": {},
   "outputs": [
    {
     "ename": "ModuleNotFoundError",
     "evalue": "No module named 'utils'",
     "output_type": "error",
     "traceback": [
      "\u001b[1;31m---------------------------------------------------------------------------\u001b[0m",
      "\u001b[1;31mModuleNotFoundError\u001b[0m                       Traceback (most recent call last)",
      "Cell \u001b[1;32mIn[32], line 1\u001b[0m\n\u001b[1;32m----> 1\u001b[0m \u001b[38;5;28;01mfrom\u001b[39;00m \u001b[38;5;21;01mutils\u001b[39;00m \u001b[38;5;28;01mimport\u001b[39;00m MultiheadAttention\n\u001b[0;32m      2\u001b[0m \u001b[38;5;28;01mfrom\u001b[39;00m \u001b[38;5;21;01mutils\u001b[39;00m \u001b[38;5;28;01mimport\u001b[39;00m LayerNormalization\n\u001b[0;32m      3\u001b[0m \u001b[38;5;28;01mimport\u001b[39;00m \u001b[38;5;21;01mtorch\u001b[39;00m\n",
      "\u001b[1;31mModuleNotFoundError\u001b[0m: No module named 'utils'"
     ]
    }
   ],
   "source": [
    "from utils import MultiheadAttention\n",
    "from utils import LayerNormalization\n",
    "import torch"
   ]
  },
  {
   "cell_type": "markdown",
   "id": "92c1fe10",
   "metadata": {},
   "source": [
    "### Multihead Attention Test"
   ]
  },
  {
   "cell_type": "code",
   "execution_count": null,
   "id": "f0af92ca-9ac7-4c06-9091-def564e97637",
   "metadata": {},
   "outputs": [],
   "source": [
    "sequence_length = 4\n",
    "batch_size = 1\n",
    "input_dim = 512\n",
    "d_model = 512\n",
    "x = torch.randn((batch_size, sequence_length, input_dim))"
   ]
  },
  {
   "cell_type": "code",
   "execution_count": 12,
   "id": "6c9f7fd7-e2ef-441f-807b-36e1ce082ade",
   "metadata": {},
   "outputs": [],
   "source": [
    "multiheadAttention = MultiheadAttention(input_dim, d_model, num_heads=8)"
   ]
  },
  {
   "cell_type": "code",
   "execution_count": 16,
   "id": "66a3f831-5882-4b2b-999d-d3d9b7d67b77",
   "metadata": {},
   "outputs": [
    {
     "name": "stdout",
     "output_type": "stream",
     "text": [
      "x.size(): torch.Size([1, 4, 512])\n",
      "qkv.size(): torch.Size([1, 4, 1536])\n",
      "q.size(): torch.Size([1, 8, 4, 64]), k.size(): torch.Size([1, 8, 4, 64]), v.size(): torch.Size([1, 8, 4, 64])\n",
      "values.size(): torch.Size([1, 8, 4, 64]), attention.size(): torch.Size([1, 8, 4, 4])\n"
     ]
    }
   ],
   "source": [
    "out = multiheadAttention.forward(x, True)"
   ]
  },
  {
   "cell_type": "code",
   "execution_count": 17,
   "id": "3a156b1d-297b-4d01-a4b5-668db75d571f",
   "metadata": {},
   "outputs": [
    {
     "data": {
      "text/plain": [
       "tensor([[[ 0.0453, -0.3026,  0.1452,  ...,  0.3501,  0.2666, -0.3062],\n",
       "         [ 0.2147,  0.1109,  0.0208,  ...,  0.2495,  0.1265,  0.1551],\n",
       "         [ 0.1463,  0.1632,  0.0049,  ...,  0.2129,  0.1098,  0.0989],\n",
       "         [-0.1060,  0.0033,  0.0157,  ...,  0.0505, -0.2788,  0.2108]]],\n",
       "       grad_fn=<ViewBackward0>)"
      ]
     },
     "execution_count": 17,
     "metadata": {},
     "output_type": "execute_result"
    }
   ],
   "source": [
    "out"
   ]
  },
  {
   "cell_type": "markdown",
   "id": "28353be1",
   "metadata": {},
   "source": [
    "### Layer Normalization Test"
   ]
  },
  {
   "cell_type": "code",
   "execution_count": 3,
   "id": "6e5901bc",
   "metadata": {},
   "outputs": [
    {
     "ename": "NameError",
     "evalue": "name 'torch' is not defined",
     "output_type": "error",
     "traceback": [
      "\u001b[1;31m---------------------------------------------------------------------------\u001b[0m",
      "\u001b[1;31mNameError\u001b[0m                                 Traceback (most recent call last)",
      "Cell \u001b[1;32mIn[3], line 4\u001b[0m\n\u001b[0;32m      2\u001b[0m sentence_length \u001b[38;5;241m=\u001b[39m \u001b[38;5;241m5\u001b[39m\n\u001b[0;32m      3\u001b[0m embedding_dim \u001b[38;5;241m=\u001b[39m \u001b[38;5;241m8\u001b[39m\n\u001b[1;32m----> 4\u001b[0m inputs \u001b[38;5;241m=\u001b[39m \u001b[43mtorch\u001b[49m\u001b[38;5;241m.\u001b[39mrandn(sentence_length, batch_size, embedding_dim)\n",
      "\u001b[1;31mNameError\u001b[0m: name 'torch' is not defined"
     ]
    }
   ],
   "source": [
    "batch_size = 3\n",
    "sentence_length = 5\n",
    "embedding_dim = 8\n",
    "inputs = torch.randn(sentence_length, batch_size, embedding_dim)"
   ]
  },
  {
   "cell_type": "code",
   "execution_count": null,
   "id": "2bd24cd9",
   "metadata": {},
   "outputs": [],
   "source": [
    "layer_norm = LayerNormalization(inputs.size()[-2:])\n",
    "out = layer_norm.forward(inputs)"
   ]
  },
  {
   "cell_type": "code",
   "execution_count": null,
   "id": "93d91412",
   "metadata": {},
   "outputs": [],
   "source": [
    "out"
   ]
  }
 ],
 "metadata": {
  "kernelspec": {
   "display_name": "Python 3 (ipykernel)",
   "language": "python",
   "name": "python3"
  },
  "language_info": {
   "codemirror_mode": {
    "name": "ipython",
    "version": 3
   },
   "file_extension": ".py",
   "mimetype": "text/x-python",
   "name": "python",
   "nbconvert_exporter": "python",
   "pygments_lexer": "ipython3",
   "version": "3.10.11"
  }
 },
 "nbformat": 4,
 "nbformat_minor": 5
}
