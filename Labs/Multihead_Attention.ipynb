{
 "cells": [
  {
   "cell_type": "code",
   "execution_count": 23,
   "id": "1ea49545-93f4-4fbe-afd3-853acb972a6b",
   "metadata": {},
   "outputs": [],
   "source": [
    "import numpy as np\n",
    "import torch\n",
    "import torch.nn as nn\n",
    "import torch.nn.functional as F\n",
    "import math"
   ]
  },
  {
   "cell_type": "code",
   "execution_count": 2,
   "id": "5a60d5b6-d1ec-4446-a6bb-33dd8d00edd4",
   "metadata": {},
   "outputs": [],
   "source": [
    "sequence_length = 4\n",
    "batch_size = 1\n",
    "input_dim = 512\n",
    "d_model = 512\n",
    "x = torch.randn((batch_size, sequence_length, input_dim))"
   ]
  },
  {
   "cell_type": "code",
   "execution_count": 5,
   "id": "174f7c8a-a5d3-4634-9b3e-afe64e9973b8",
   "metadata": {},
   "outputs": [
    {
     "data": {
      "text/plain": [
       "torch.Size([1, 4, 512])"
      ]
     },
     "execution_count": 5,
     "metadata": {},
     "output_type": "execute_result"
    }
   ],
   "source": [
    "# X is the result of input vector after positional encoding has been applied - input to the multihead attention\n",
    "x.size()"
   ]
  },
  {
   "cell_type": "code",
   "execution_count": 6,
   "id": "61cd91bb-e411-40c0-bf56-91cccb9aa8d5",
   "metadata": {},
   "outputs": [],
   "source": [
    "qkv_layer = nn.Linear(input_dim, 3 * d_model)"
   ]
  },
  {
   "cell_type": "code",
   "execution_count": 7,
   "id": "db20147b-555c-4d4e-bd73-6ad54df01973",
   "metadata": {},
   "outputs": [
    {
     "data": {
      "text/plain": [
       "Linear(in_features=512, out_features=1536, bias=True)"
      ]
     },
     "execution_count": 7,
     "metadata": {},
     "output_type": "execute_result"
    }
   ],
   "source": [
    "qkv_layer"
   ]
  },
  {
   "cell_type": "code",
   "execution_count": 8,
   "id": "aff159e4-5751-4f4f-9277-c36344151659",
   "metadata": {},
   "outputs": [],
   "source": [
    "qkv = qkv_layer(x)"
   ]
  },
  {
   "cell_type": "code",
   "execution_count": 10,
   "id": "f6c2f7f7-db4c-4b90-ba9a-d32d8e6177e5",
   "metadata": {},
   "outputs": [
    {
     "data": {
      "text/plain": [
       "torch.Size([1, 4, 1536])"
      ]
     },
     "execution_count": 10,
     "metadata": {},
     "output_type": "execute_result"
    }
   ],
   "source": [
    "qkv.shape"
   ]
  },
  {
   "cell_type": "code",
   "execution_count": 11,
   "id": "8d7f93f8-3fea-4a39-98ea-cf2aa69b443c",
   "metadata": {},
   "outputs": [
    {
     "data": {
      "text/plain": [
       "Text(0.5, 1.0, 'QKV Distribution')"
      ]
     },
     "execution_count": 11,
     "metadata": {},
     "output_type": "execute_result"
    },
    {
     "data": {
      "image/png": "[encoded data removed]",
      "text/plain": [
       "<Figure size 640x480 with 1 Axes>"
      ]
     },
     "metadata": {},
     "output_type": "display_data"
    }
   ],
   "source": [
    "import matplotlib.pyplot as plt\n",
    "y_val = torch.histc(qkv, bins=200, min=3, max=3)\n",
    "x_val = np.arange(-1, 1, 0.01) * 3\n",
    "plt.bar(x_val, y_val, align='center', color=['forestgreen'])\n",
    "plt.title(\"QKV Distribution\")"
   ]
  },
  {
   "cell_type": "code",
   "execution_count": 13,
   "id": "420dbc06-a3b0-424a-a55b-4c7699b860ec",
   "metadata": {},
   "outputs": [],
   "source": [
    "num_heads = 8\n",
    "head_dim = d_model//num_heads\n",
    "qkv = qkv.reshape(batch_size, sequence_length, num_heads, 3 * head_dim)"
   ]
  },
  {
   "cell_type": "code",
   "execution_count": 17,
   "id": "6939c67a-6fb1-4cee-95f3-0f9fe9da6933",
   "metadata": {},
   "outputs": [
    {
     "data": {
      "text/plain": [
       "torch.Size([1, 4, 8, 192])"
      ]
     },
     "execution_count": 17,
     "metadata": {},
     "output_type": "execute_result"
    }
   ],
   "source": [
    "qkv.shape"
   ]
  },
  {
   "cell_type": "code",
   "execution_count": 18,
   "id": "532350eb-67df-48df-8b31-8a32740eb629",
   "metadata": {},
   "outputs": [
    {
     "data": {
      "text/plain": [
       "torch.Size([1, 8, 4, 192])"
      ]
     },
     "execution_count": 18,
     "metadata": {},
     "output_type": "execute_result"
    }
   ],
   "source": [
    "qkv = qkv.permute(0,2,1,3)\n",
    "qkv.shape"
   ]
  },
  {
   "cell_type": "code",
   "execution_count": 19,
   "id": "8a259c52-fbdb-446a-bbba-b08089629d29",
   "metadata": {
    "scrolled": true
   },
   "outputs": [
    {
     "data": {
      "text/plain": [
       "tensor([[[[-0.7496,  0.3531,  0.2618,  ..., -0.1575, -0.9731, -0.0473],\n",
       "          [ 0.6868, -0.2066, -0.0904,  ..., -0.4904,  0.0486, -0.3167],\n",
       "          [ 0.4414,  0.7746,  0.4527,  ..., -0.6080, -0.5427, -0.8279],\n",
       "          [ 0.1280,  0.5428, -0.5650,  ..., -1.2856,  0.7576,  0.1173]],\n",
       "\n",
       "         [[-0.0799,  0.1622,  0.0173,  ...,  0.1272, -0.2408,  0.3202],\n",
       "          [ 0.8238, -0.1900,  0.3532,  ..., -0.1221, -0.4424,  0.5339],\n",
       "          [-0.6406,  0.5993,  0.4022,  ..., -0.0905, -0.5899, -0.0023],\n",
       "          [-0.2388, -0.0415, -0.1882,  ..., -0.0021,  0.4028,  0.2902]],\n",
       "\n",
       "         [[-0.4266, -0.0676,  0.0847,  ...,  0.0410, -0.2080, -0.0670],\n",
       "          [-0.0909, -0.0112, -0.0895,  ...,  0.8887, -0.1615,  0.0969],\n",
       "          [-0.0899,  1.1727,  0.0544,  ..., -0.7194, -0.2564, -0.6483],\n",
       "          [ 0.5524,  0.6242,  1.3000,  ..., -0.2234, -0.4264, -0.3992]],\n",
       "\n",
       "         ...,\n",
       "\n",
       "         [[-1.2519, -1.1713, -0.1160,  ..., -0.3668, -0.5660, -0.1256],\n",
       "          [-0.0847,  0.1512,  0.1538,  ..., -0.3337,  0.1632, -0.4031],\n",
       "          [-0.1558, -0.3784,  0.6486,  ...,  0.5242, -0.3484, -0.3329],\n",
       "          [ 0.3236,  0.2720,  0.1962,  ..., -0.0121, -0.3996,  0.9746]],\n",
       "\n",
       "         [[ 0.8214, -0.0607,  0.1631,  ..., -0.4153, -0.7250, -0.7791],\n",
       "          [ 0.7224,  0.1958, -0.8940,  ...,  0.2363,  0.9588,  0.0736],\n",
       "          [ 0.2815,  0.2301,  0.3842,  ...,  0.5377,  1.1615, -0.5980],\n",
       "          [ 0.1191, -0.7591,  0.4535,  ...,  0.3259, -0.0825,  0.8633]],\n",
       "\n",
       "         [[-0.0839, -0.2606, -0.4820,  ..., -0.3977, -0.0429,  0.1959],\n",
       "          [-0.5813,  0.8614, -0.1662,  ...,  0.1377,  0.1455, -1.6094],\n",
       "          [ 0.3129,  0.2839,  0.4565,  ..., -1.3736, -1.0870, -0.1264],\n",
       "          [ 0.4963,  0.1623, -0.1934,  ..., -0.3560, -0.1215, -0.4083]]]],\n",
       "       grad_fn=<PermuteBackward0>)"
      ]
     },
     "execution_count": 19,
     "metadata": {},
     "output_type": "execute_result"
    }
   ],
   "source": [
    "qkv"
   ]
  },
  {
   "cell_type": "code",
   "execution_count": 20,
   "id": "cf608df3-ad30-4040-bdf1-60a8ce6f9f31",
   "metadata": {},
   "outputs": [
    {
     "data": {
      "text/plain": [
       "(torch.Size([1, 8, 4, 64]),\n",
       " torch.Size([1, 8, 4, 64]),\n",
       " torch.Size([1, 8, 4, 64]))"
      ]
     },
     "execution_count": 20,
     "metadata": {},
     "output_type": "execute_result"
    }
   ],
   "source": [
    "q, k, v = qkv.chunk(3, dim=-1)\n",
    "q.shape, k.shape, v.shape"
   ]
  },
  {
   "cell_type": "code",
   "execution_count": 25,
   "id": "7b804ca2-e3b4-4613-9a4d-5619fb3c9f86",
   "metadata": {},
   "outputs": [
    {
     "data": {
      "text/plain": [
       "torch.Size([1, 8, 4, 4])"
      ]
     },
     "execution_count": 25,
     "metadata": {},
     "output_type": "execute_result"
    }
   ],
   "source": [
    "d_k = q.size()[-1]\n",
    "scaled = torch.matmul(q, k.transpose(-2, -1)) / math.sqrt(d_k)\n",
    "scaled.shape"
   ]
  },
  {
   "cell_type": "code",
   "execution_count": 26,
   "id": "659d5af9-ffff-409c-a35a-00e6e37a5675",
   "metadata": {},
   "outputs": [
    {
     "data": {
      "text/plain": [
       "tensor([[0., -inf, -inf, -inf],\n",
       "        [0., 0., -inf, -inf],\n",
       "        [0., 0., 0., -inf],\n",
       "        [0., 0., 0., 0.]])"
      ]
     },
     "execution_count": 26,
     "metadata": {},
     "output_type": "execute_result"
    }
   ],
   "source": [
    "mask = torch.full(scaled.size(), float('-inf'))\n",
    "mask = torch.triu(mask, diagonal=1)\n",
    "mask[0][1]"
   ]
  },
  {
   "cell_type": "code",
   "execution_count": 27,
   "id": "9a39b678-d021-475a-8a1f-87e91450004c",
   "metadata": {},
   "outputs": [],
   "source": [
    "scaled+=mask"
   ]
  },
  {
   "cell_type": "code",
   "execution_count": 29,
   "id": "6c4f29e8-3cfd-48b3-aff5-31477ec5ba3a",
   "metadata": {},
   "outputs": [],
   "source": [
    "attention = F.softmax(scaled, dim=-1)"
   ]
  },
  {
   "cell_type": "code",
   "execution_count": 30,
   "id": "ea553a4d-c257-4e45-ab0d-d6288cd4851d",
   "metadata": {
    "scrolled": true
   },
   "outputs": [
    {
     "data": {
      "text/plain": [
       "tensor([[[[1.0000, 0.0000, 0.0000, 0.0000],\n",
       "          [0.2502, 0.7498, 0.0000, 0.0000],\n",
       "          [0.2194, 0.1958, 0.5848, 0.0000],\n",
       "          [0.1318, 0.1040, 0.2596, 0.5047]],\n",
       "\n",
       "         [[1.0000, 0.0000, 0.0000, 0.0000],\n",
       "          [0.6243, 0.3757, 0.0000, 0.0000],\n",
       "          [0.3048, 0.2522, 0.4430, 0.0000],\n",
       "          [0.2686, 0.2210, 0.1484, 0.3621]],\n",
       "\n",
       "         [[1.0000, 0.0000, 0.0000, 0.0000],\n",
       "          [0.4630, 0.5370, 0.0000, 0.0000],\n",
       "          [0.4000, 0.2289, 0.3712, 0.0000],\n",
       "          [0.3158, 0.2000, 0.3120, 0.1722]],\n",
       "\n",
       "         [[1.0000, 0.0000, 0.0000, 0.0000],\n",
       "          [0.5392, 0.4608, 0.0000, 0.0000],\n",
       "          [0.1475, 0.4920, 0.3605, 0.0000],\n",
       "          [0.2692, 0.3087, 0.1780, 0.2441]],\n",
       "\n",
       "         [[1.0000, 0.0000, 0.0000, 0.0000],\n",
       "          [0.5034, 0.4966, 0.0000, 0.0000],\n",
       "          [0.3507, 0.2665, 0.3828, 0.0000],\n",
       "          [0.3517, 0.2890, 0.1306, 0.2286]],\n",
       "\n",
       "         [[1.0000, 0.0000, 0.0000, 0.0000],\n",
       "          [0.5004, 0.4996, 0.0000, 0.0000],\n",
       "          [0.3122, 0.4310, 0.2568, 0.0000],\n",
       "          [0.3789, 0.2251, 0.1755, 0.2205]],\n",
       "\n",
       "         [[1.0000, 0.0000, 0.0000, 0.0000],\n",
       "          [0.4241, 0.5759, 0.0000, 0.0000],\n",
       "          [0.2924, 0.4991, 0.2084, 0.0000],\n",
       "          [0.1724, 0.4733, 0.2031, 0.1512]],\n",
       "\n",
       "         [[1.0000, 0.0000, 0.0000, 0.0000],\n",
       "          [0.4285, 0.5715, 0.0000, 0.0000],\n",
       "          [0.2813, 0.4520, 0.2667, 0.0000],\n",
       "          [0.2929, 0.3309, 0.2243, 0.1519]]]], grad_fn=<SoftmaxBackward0>)"
      ]
     },
     "execution_count": 30,
     "metadata": {},
     "output_type": "execute_result"
    }
   ],
   "source": [
    "attention"
   ]
  },
  {
   "cell_type": "code",
   "execution_count": 36,
   "id": "25fd0734-969e-438e-a19c-c2ce119ffdc0",
   "metadata": {},
   "outputs": [
    {
     "data": {
      "text/plain": [
       "torch.Size([1, 8, 4, 64])"
      ]
     },
     "execution_count": 36,
     "metadata": {},
     "output_type": "execute_result"
    }
   ],
   "source": [
    "values = torch.matmul(attention, v)\n",
    "values.shape"
   ]
  },
  {
   "cell_type": "code",
   "execution_count": 47,
   "id": "8394ce7e-e335-417a-8070-ea2dc031548f",
   "metadata": {},
   "outputs": [],
   "source": [
    "# Compile every thing in a single function\n",
    "\n",
    "def scaled_dot_product(q, k, v, mask=False):\n",
    "    \n",
    "    def GenerateMask(scaled):\n",
    "        mask = torch.full(scaled.size(), float('-inf'))\n",
    "        mask = torch.triu(mask, diagonal=1)\n",
    "        return mask\n",
    "    \n",
    "    d_k = q.size()[-1]\n",
    "    scaled = torch.matmul(q, k.transpose(-2, -1)) / math.sqrt(d_k)\n",
    "    if not mask:\n",
    "        scaled += GenerateMask(scaled)\n",
    "    attention = F.softmax(scaled, dim=-1)\n",
    "    values = torch.matmul(attention, v)\n",
    "    return values, attention\n",
    "\n",
    "def multi_head_attention(q, k, v, mask=False):\n",
    "    values, attention = scaled_dot_product(q, k, v, mask)\n",
    "    values = values.reshape(batch_size, sequence_length, num_heads*head_dim)\n",
    "    linear_layer = nn.Linear(d_model, d_model)\n",
    "    out = linear_layer(values)\n",
    "    return out\n",
    "    "
   ]
  },
  {
   "cell_type": "code",
   "execution_count": 41,
   "id": "9f811764-7dd1-4283-8b54-105ad46e280d",
   "metadata": {},
   "outputs": [],
   "source": [
    "values, attention = scaled_dot_product(q, k, v, True)"
   ]
  },
  {
   "cell_type": "code",
   "execution_count": 42,
   "id": "43efbe6d-9ce6-494e-90b2-f964356e4c47",
   "metadata": {},
   "outputs": [
    {
     "data": {
      "text/plain": [
       "torch.Size([1, 4, 512])"
      ]
     },
     "execution_count": 42,
     "metadata": {},
     "output_type": "execute_result"
    }
   ],
   "source": [
    "values = values.reshape(batch_size, sequence_length, num_heads*head_dim)\n",
    "values.size()"
   ]
  },
  {
   "cell_type": "code",
   "execution_count": 43,
   "id": "6724ef50-ad25-4545-9223-bf1e1c48e4d6",
   "metadata": {},
   "outputs": [],
   "source": [
    "linear_layer = nn.Linear(d_model, d_model)"
   ]
  },
  {
   "cell_type": "code",
   "execution_count": 44,
   "id": "a190b1b2-5256-40fb-81e4-bbac10a01541",
   "metadata": {},
   "outputs": [],
   "source": [
    "out = linear_layer(values)"
   ]
  },
  {
   "cell_type": "code",
   "execution_count": 46,
   "id": "db48155b-3096-4141-92b3-8544cc0bd135",
   "metadata": {},
   "outputs": [
    {
     "data": {
      "text/plain": [
       "tensor([[[-0.0463,  0.0489, -0.0964,  ...,  0.1093,  0.2200,  0.0992],\n",
       "         [ 0.3322,  0.1566,  0.0309,  ..., -0.0027, -0.1218,  0.0550],\n",
       "         [ 0.0267, -0.1101,  0.1050,  ...,  0.1771,  0.3138, -0.2428],\n",
       "         [ 0.2565, -0.2947,  0.2161,  ...,  0.1209, -0.0578,  0.1070]]],\n",
       "       grad_fn=<ViewBackward0>)"
      ]
     },
     "execution_count": 46,
     "metadata": {},
     "output_type": "execute_result"
    }
   ],
   "source": [
    "out"
   ]
  }
 ],
 "metadata": {
  "kernelspec": {
   "display_name": "Python 3 (ipykernel)",
   "language": "python",
   "name": "python3"
  },
  "language_info": {
   "codemirror_mode": {
    "name": "ipython",
    "version": 3
   },
   "file_extension": ".py",
   "mimetype": "text/x-python",
   "name": "python",
   "nbconvert_exporter": "python",
   "pygments_lexer": "ipython3",
   "version": "3.10.11"
  }
 },
 "nbformat": 4,
 "nbformat_minor": 5
}
